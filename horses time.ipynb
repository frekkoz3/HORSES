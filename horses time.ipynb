{
 "cells": [
  {
   "cell_type": "code",
   "execution_count": 1,
   "metadata": {},
   "outputs": [
    {
     "name": "stdout",
     "output_type": "stream",
     "text": [
      "pygame 2.5.2 (SDL 2.28.3, Python 3.12.3)\n",
      "Hello from the pygame community. https://www.pygame.org/contribute.html\n"
     ]
    }
   ],
   "source": [
    "import pygame"
   ]
  },
  {
   "cell_type": "markdown",
   "metadata": {},
   "source": [
    "Let's make a game."
   ]
  },
  {
   "cell_type": "markdown",
   "metadata": {},
   "source": [
    "Okay we are making horses run. That's fun.\n",
    "\n",
    "To Do List:\n",
    "1. Adding sprite to the horses (ps, a collection of sprite)\n",
    "2. Creating the sprites for the card\n",
    "3. Add a background\n",
    "4. Add some music\n",
    "\n",
    "I think that's it for what we want to do. Bye bye!"
   ]
  },
  {
   "cell_type": "code",
   "execution_count": 2,
   "metadata": {},
   "outputs": [],
   "source": [
    "class Horse:\n",
    "    def __init__(self, seed, name, score, pos, color):\n",
    "        self.seed = seed\n",
    "        self.name = name\n",
    "        self.score = score\n",
    "        self.pos = pos\n",
    "        self.color = color\n",
    "    \n",
    "    def setpos(self, pos):\n",
    "        self.pos = pos"
   ]
  },
  {
   "cell_type": "code",
   "execution_count": 3,
   "metadata": {},
   "outputs": [],
   "source": [
    "seed = [\"Bastoni\", \"Spade\", \"Coppe\", \"Denari\"]"
   ]
  },
  {
   "cell_type": "code",
   "execution_count": 4,
   "metadata": {},
   "outputs": [],
   "source": [
    "numbers = [i for i in range (1, 11)]\n",
    "numbers.remove(9)"
   ]
  },
  {
   "cell_type": "code",
   "execution_count": 5,
   "metadata": {},
   "outputs": [],
   "source": [
    "# non è ottimizzato per effettivamente funzionare sempre, solo con fasi massime di 99 e minime di 10.\n",
    "def format_phase(idx):\n",
    "    if idx < 10:\n",
    "        return f\"0{idx}\"\n",
    "    else:\n",
    "        return idx"
   ]
  },
  {
   "cell_type": "code",
   "execution_count": 11,
   "metadata": {},
   "outputs": [
    {
     "ename": "error",
     "evalue": "display Surface quit",
     "output_type": "error",
     "traceback": [
      "\u001b[1;31m---------------------------------------------------------------------------\u001b[0m",
      "\u001b[1;31merror\u001b[0m                                     Traceback (most recent call last)",
      "Cell \u001b[1;32mIn[11], line 123\u001b[0m\n\u001b[0;32m    120\u001b[0m         running \u001b[38;5;241m=\u001b[39m \u001b[38;5;28;01mFalse\u001b[39;00m\n\u001b[0;32m    121\u001b[0m         pygame\u001b[38;5;241m.\u001b[39mquit()\n\u001b[1;32m--> 123\u001b[0m \u001b[43mscreen\u001b[49m\u001b[38;5;241;43m.\u001b[39;49m\u001b[43mfill\u001b[49m\u001b[43m(\u001b[49m\u001b[38;5;124;43m\"\u001b[39;49m\u001b[38;5;124;43mwhite\u001b[39;49m\u001b[38;5;124;43m\"\u001b[39;49m\u001b[43m)\u001b[49m\n\u001b[0;32m    125\u001b[0m winning_horse \u001b[38;5;241m=\u001b[39m pygame\u001b[38;5;241m.\u001b[39msprite\u001b[38;5;241m.\u001b[39mSprite(winning_sprite)\n\u001b[0;32m    126\u001b[0m winning_horse\u001b[38;5;241m.\u001b[39mimage \u001b[38;5;241m=\u001b[39m pygame\u001b[38;5;241m.\u001b[39mimage\u001b[38;5;241m.\u001b[39mload(\u001b[38;5;124mf\u001b[39m\u001b[38;5;124m\"\u001b[39m\u001b[38;5;124msprites/winning/\u001b[39m\u001b[38;5;132;01m{\u001b[39;00mwinner\u001b[38;5;241m.\u001b[39mseed\u001b[38;5;132;01m}\u001b[39;00m\u001b[38;5;124m/\u001b[39m\u001b[38;5;132;01m{\u001b[39;00mformat_phase(phase\u001b[38;5;241m%\u001b[39m\u001b[38;5;241m14\u001b[39m)\u001b[38;5;132;01m}\u001b[39;00m\u001b[38;5;124m.png\u001b[39m\u001b[38;5;124m\"\u001b[39m)\n",
      "\u001b[1;31merror\u001b[0m: display Surface quit"
     ]
    }
   ],
   "source": [
    "import time\n",
    "pygame.init()\n",
    "\n",
    "import random\n",
    "\n",
    "WIDTH = 1100\n",
    "HEIGHT = 800\n",
    "\n",
    "smallfont = pygame.font.SysFont('Corbel',35) \n",
    "\n",
    "screen = pygame.display.set_mode((WIDTH, HEIGHT))\n",
    "clock = pygame.time.Clock()\n",
    "\n",
    "running = True\n",
    "\n",
    "red = (255, 0, 0)\n",
    "blue = (0, 0, 255)\n",
    "green = (0, 255, 0)\n",
    "yellow = (255, 255, 0)\n",
    "\n",
    "text = smallfont.render('Go!' , True , (255, 255, 255)) \n",
    "\n",
    "horses = [\n",
    "    Horse(\"Bastoni\", \"Red\", 0, [150, 50], red), \n",
    "    Horse(\"Spade\", \"Blue\", 0, [300, 50], blue),\n",
    "    Horse(\"Coppe\", \"Yellow\", 0, [450, 50], yellow),\n",
    "    Horse(\"Denari\", \"Green\", 0, [600, 50], green)\n",
    "]\n",
    "\n",
    "deck = [(n, s) for s in seed for n in numbers]\n",
    "random.shuffle(deck)\n",
    "I = [0, 1, 2, 3, 4, 5, 6, 7]\n",
    "\n",
    "sprint = [[False, d, i] for d, i in zip(deck[:8], I)]\n",
    "deck = deck[8:]\n",
    "\n",
    "dl = 0.25 # deelay\n",
    "last = 1\n",
    "\n",
    "winner = None\n",
    "card = None\n",
    "\n",
    "phase = 1\n",
    "\n",
    "while running:\n",
    "\n",
    "        horses_sprite = pygame.sprite.Group()\n",
    "        sprint_sprite = pygame.sprite.Group()\n",
    "\n",
    "        for event in pygame.event.get():\n",
    "            if event.type == pygame.QUIT:\n",
    "                running = False\n",
    "                pygame.quit()\n",
    "\n",
    "        screen.fill(\"green\")\n",
    "        \n",
    "        new_sprint = True\n",
    "        for h in horses:\n",
    "            if h.pos[1] < last*100:\n",
    "                new_sprint = False\n",
    "        \n",
    "        if new_sprint:\n",
    "            card = sprint[last-1][1]\n",
    "            sprint[last-1][0] = True\n",
    "            last += 1\n",
    "        else:\n",
    "            card = deck.pop()\n",
    "        \n",
    "        if new_sprint:\n",
    "            text_surface = smallfont.render(f\"SPRINT {card[1]}\", False, (0, 0, 0))\n",
    "            screen.blit(text_surface, (WIDTH/2 - text_surface.get_width()/2, 50))\n",
    "        else:\n",
    "            text_surface = smallfont.render(f\"{card}\", False, (0, 0, 0))\n",
    "            screen.blit(text_surface, (WIDTH/2 - text_surface.get_width()/2, 50))\n",
    "\n",
    "        for s in sprint:\n",
    "            if s[0] == True:\n",
    "                sp = pygame.sprite.Sprite(sprint_sprite)\n",
    "                sp.image = pygame.image.load(f\"sprites/seed/50x50/{s[1][1]}.png\")\n",
    "                sp.rect = pygame.Rect(150 + s[2]*100, 700, 50, 50)\n",
    "            else:\n",
    "                sp = pygame.sprite.Sprite(sprint_sprite)\n",
    "                sp.image = pygame.image.load(f\"sprites/seed/50x50/All.png\")\n",
    "                sp.rect = pygame.Rect(150 + s[2]*100, 700, 50, 50)\n",
    "\n",
    "        time.sleep(dl)\n",
    "\n",
    "        for h in horses:\n",
    "            if card[1] == h.seed:\n",
    "                h.setpos([h.pos[0], h.pos[1] + 100])\n",
    "            if h.pos[1] > 850:\n",
    "                winner = h\n",
    "                running = False\n",
    "            horse = pygame.sprite.Sprite(horses_sprite)\n",
    "            horse.image = pygame.image.load(f\"sprites/running/{h.seed} {phase%2 + 1}.png\")\n",
    "            horse.rect = pygame.Rect(h.pos[1] - 25, h.pos[0] - 25, 100, 100)\n",
    "\n",
    "        sprint_sprite.draw(screen)\n",
    "        horses_sprite.draw(screen)\n",
    "\n",
    "        phase = phase+1\n",
    "\n",
    "        pygame.display.update()\n",
    "\n",
    "        if winner != None:\n",
    "            time.sleep(1)\n",
    "\n",
    "        time.sleep(dl)\n",
    "\n",
    "running = True\n",
    "\n",
    "phase = 0\n",
    "\n",
    "while running:\n",
    "\n",
    "    winning_sprite = pygame.sprite.Group()\n",
    "     \n",
    "    for event in pygame.event.get():\n",
    "        if event.type == pygame.QUIT:\n",
    "            running = False\n",
    "            pygame.quit()\n",
    "\n",
    "    screen.fill(\"white\")\n",
    "\n",
    "    winning_horse = pygame.sprite.Sprite(winning_sprite)\n",
    "    winning_horse.image = pygame.image.load(f\"sprites/winning/{winner.seed}/{format_phase(phase%14)}.png\")\n",
    "    winning_horse.rect = pygame.Rect(WIDTH/2 -150, HEIGHT/2 - 150, 300, 300)\n",
    "\n",
    "    text_surface = smallfont.render(f\"{winner.seed.upper()} WON\", False, (0, 0, 0))\n",
    "    screen.blit(text_surface, (WIDTH/2 - text_surface.get_width()/2, 50))\n",
    "\n",
    "    winning_sprite.draw(screen)\n",
    "\n",
    "    phase += 1\n",
    "\n",
    "    pygame.display.update()\n",
    "\n",
    "    clock.tick(4)\n"
   ]
  }
 ],
 "metadata": {
  "kernelspec": {
   "display_name": "Python 3",
   "language": "python",
   "name": "python3"
  },
  "language_info": {
   "codemirror_mode": {
    "name": "ipython",
    "version": 3
   },
   "file_extension": ".py",
   "mimetype": "text/x-python",
   "name": "python",
   "nbconvert_exporter": "python",
   "pygments_lexer": "ipython3",
   "version": "3.12.3"
  }
 },
 "nbformat": 4,
 "nbformat_minor": 2
}
